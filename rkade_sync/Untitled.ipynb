{
 "cells": [
  {
   "cell_type": "code",
   "execution_count": 10,
   "id": "b7ed0d22-9115-43a4-93d5-e75112e2ac5d",
   "metadata": {},
   "outputs": [],
   "source": []
  },
  {
   "cell_type": "code",
   "execution_count": 2,
   "id": "3721d728-3f35-4ba7-b0f2-f5f3a204348d",
   "metadata": {},
   "outputs": [],
   "source": [
    "from helpers.media_helpers import YouTubeVideo, AudioSegment"
   ]
  },
  {
   "cell_type": "code",
   "execution_count": 3,
   "id": "5c860669-897c-453b-ae16-8940c8b4707e",
   "metadata": {},
   "outputs": [],
   "source": [
    "fp = \"/Users/russellkim/personal/music/raw/Pony - Eliminate Remix.webm\""
   ]
  },
  {
   "cell_type": "code",
   "execution_count": 4,
   "id": "d0370ec9-c1f8-44c1-8cd6-cfd9c26463d2",
   "metadata": {},
   "outputs": [],
   "source": [
    "raw = AudioSegment.from_file(fp)"
   ]
  },
  {
   "cell_type": "code",
   "execution_count": 5,
   "id": "6059237a-e1a4-4d63-8f11-efbb1eeaecce",
   "metadata": {},
   "outputs": [],
   "source": [
    "final_file_path = \"/Users/russellkim/personal/music/playlists/rekordbox_house_speed/Pony - Eliminate Remix.mp3\""
   ]
  },
  {
   "cell_type": "code",
   "execution_count": 6,
   "id": "ef8be275-a49b-4435-890e-d8363c95d4de",
   "metadata": {},
   "outputs": [],
   "source": [
    "from helpers import utils"
   ]
  },
  {
   "cell_type": "code",
   "execution_count": 7,
   "id": "11e20e95-fa14-43bc-aeb1-c0da8dca644e",
   "metadata": {},
   "outputs": [],
   "source": [
    "tn = \"https://lh3.googleusercontent.com/8HawKXcmFSwVjiaAzxbNZyQkNGJnL-Q20TM9ClTr76CrYp1iy3roNmT3FGkD_Crh_J0FIO0ck8Uau-CG=w120-h120-l90-rj\""
   ]
  },
  {
   "cell_type": "code",
   "execution_count": 8,
   "id": "8aab128e-0e4b-4dc6-b4d5-be94abd21d63",
   "metadata": {},
   "outputs": [
    {
     "data": {
      "text/plain": [
       "True"
      ]
     },
     "execution_count": 8,
     "metadata": {},
     "output_type": "execute_result"
    }
   ],
   "source": [
    "utils.set_thumbnail(final_file_path, tn) "
   ]
  },
  {
   "cell_type": "code",
   "execution_count": 13,
   "id": "842ddc77-fdd1-43ba-9a76-52c70a21a9de",
   "metadata": {},
   "outputs": [],
   "source": [
    "import eyed3\n",
    "import requests\n",
    "from eyed3.id3.frames import ImageFrame\n",
    "\n",
    "\n",
    "def set_thumbnail(mp3_file, image_url) -> bool:\n",
    "    response = requests.get(image_url)\n",
    "    audiofile = eyed3.load(mp3_file)\n",
    "\n",
    "    if response.status_code != 200:\n",
    "        return False\n",
    "    if not audiofile:\n",
    "        return False\n",
    "    if not audiofile.tag:\n",
    "        return False\n",
    "    asdf = audiofile.tag.images.set(ImageFrame.FRONT_COVER, response.content, \"image/jpeg\")\n",
    "    print(asdf)\n",
    "    print(\"setting thumbnail\")\n",
    "    audiofile.tag.save()\n",
    "    return asdf\n",
    "\n"
   ]
  },
  {
   "cell_type": "code",
   "execution_count": 14,
   "id": "bd33da5b-74a8-4847-94d8-dc99ebe73043",
   "metadata": {},
   "outputs": [
    {
     "name": "stdout",
     "output_type": "stream",
     "text": [
      "<eyed3.id3.frames.ImageFrame object at 0x111bd5570>\n",
      "setting thumbnail\n"
     ]
    }
   ],
   "source": [
    "test = set_thumbnail(final_file_path, tn)"
   ]
  },
  {
   "cell_type": "code",
   "execution_count": 15,
   "id": "2000db21-e469-44fc-970a-e1097e13a9ed",
   "metadata": {},
   "outputs": [
    {
     "data": {
      "text/plain": [
       "<eyed3.id3.frames.ImageFrame at 0x111bd5570>"
      ]
     },
     "execution_count": 15,
     "metadata": {},
     "output_type": "execute_result"
    }
   ],
   "source": [
    "test"
   ]
  },
  {
   "cell_type": "code",
   "execution_count": null,
   "id": "ecbe7fee-9bc8-45c7-a58c-faac7a9d659f",
   "metadata": {},
   "outputs": [],
   "source": [
    "test."
   ]
  }
 ],
 "metadata": {
  "kernelspec": {
   "display_name": "Python 3 (ipykernel)",
   "language": "python",
   "name": "python3"
  },
  "language_info": {
   "codemirror_mode": {
    "name": "ipython",
    "version": 3
   },
   "file_extension": ".py",
   "mimetype": "text/x-python",
   "name": "python",
   "nbconvert_exporter": "python",
   "pygments_lexer": "ipython3",
   "version": "3.10.13"
  }
 },
 "nbformat": 4,
 "nbformat_minor": 5
}
