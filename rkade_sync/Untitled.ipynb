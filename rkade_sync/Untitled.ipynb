{
 "cells": [
  {
   "cell_type": "code",
   "execution_count": 10,
   "id": "b7ed0d22-9115-43a4-93d5-e75112e2ac5d",
   "metadata": {},
   "outputs": [],
   "source": [
    "import multiprocessing\n",
    "import os\n",
    "import re\n",
    "import typing as T\n",
    "\n",
    "from client.spotify import SpotipyClient\n",
    "from client.yt_music import YTMusicClient\n",
    "from config import (ROOT_DIR, SPOTIPY_CLIENT_ID, SPOTIPY_CLIENT_SECRET,\n",
    "                    SPOTIPY_USER, YT_PLAYLISTS, YTMUSIC_OAUTH_HEADER_FILE)\n",
    "from helpers.media import YTVideo\n",
    "from helpers.utils import set_thumbnail\n",
    "from pytube import Playlist\n",
    "\n",
    "RAW_DIR = f\"{ROOT_DIR}/raw\"\n",
    "\n",
    "\n",
    "def initialize_clients() -> tuple[SpotipyClient, YTMusicClient]:\n",
    "    \"\"\"Initializes Spotify and Youtube Music clients.\n",
    "\n",
    "    Returns:\n",
    "        A tuple containing the initialized SpotipyClient and YTMusicClient instances.\n",
    "    \"\"\"\n",
    "\n",
    "    return (\n",
    "        SpotipyClient(\n",
    "            client_id=SPOTIPY_CLIENT_ID,\n",
    "            client_secret=SPOTIPY_CLIENT_SECRET,\n",
    "            user=SPOTIPY_USER,\n",
    "        ),\n",
    "        YTMusicClient(auth=YTMUSIC_OAUTH_HEADER_FILE),\n",
    "    )\n",
    "\n",
    "\n",
    "def download_song(yt_video: YTVideo, playlist):\n",
    "    final_directory = f\"{ROOT_DIR}/playlists/{playlist}\"\n",
    "    file_path = yt_video.download_mp3(\n",
    "        raw_directory=RAW_DIR, final_directory=final_directory\n",
    "    )\n",
    "    set_thumbnail(file_path, yt_video.youtube.thumbnail_url)\n",
    "\n",
    "\n",
    "def get_spotify_videos(sp_playlists, ytm_client) -> T.Dict[str, T.List[YTVideo]]:\n",
    "    playlist_map = {}\n",
    "    for playlist, songs in sp_playlists.items():\n",
    "        videos = []\n",
    "        for song in songs:\n",
    "            title, artist = song\n",
    "            track, album, video_id = ytm_client.return_top_video_match(title)\n",
    "            video = YTVideo(\n",
    "                video_id=video_id,\n",
    "                track=track,\n",
    "                artist=artist,\n",
    "                album=album,\n",
    "                playlist=playlist,\n",
    "                comments=\"\",\n",
    "            )\n",
    "            videos.append(video)\n",
    "        playlist_map[playlist] = videos\n",
    "    return playlist_map\n",
    "\n",
    "\n",
    "def get_ytm_videos(playlists: T.Dict[str, str]) -> T.Dict[str, T.List[YTVideo]]:\n",
    "    playlist_map = {}\n",
    "    for playlist, url in playlists.items():\n",
    "        videos = []\n",
    "        for v in Playlist(url).videos:\n",
    "            video_info = get_song_title_artist(v.title)\n",
    "            video_id = v.video_id\n",
    "            track = video_info[\"title\"]\n",
    "            artist = video_info[\"artist\"]\n",
    "            album = \"\"\n",
    "            video = YTVideo(\n",
    "                video_id=video_id,\n",
    "                track=track,\n",
    "                artist=artist,\n",
    "                album=album,\n",
    "                playlist=playlist,\n",
    "                comments=\"\",\n",
    "            )\n",
    "            videos.append(video)\n",
    "        playlist_map[playlist] = videos\n",
    "    return playlist_map\n",
    "\n",
    "\n",
    "def get_song_title_artist(text):\n",
    "    \"\"\"\n",
    "    This function attempts to extract the song title and artist from a string.\n",
    "\n",
    "    Args:\n",
    "      text: The string containing the song information.\n",
    "\n",
    "    Returns:\n",
    "      A dictionary containing the extracted song title and artist,\n",
    "      or None if no song information is found.\n",
    "    \"\"\"\n",
    "    # Use regular expressions to extract artist and title in various formats\n",
    "    matches = re.search(r\"(?P<artist>.*?)\\s*-\\s*(?P<title>.*)\", text)\n",
    "    if matches:\n",
    "        return matches.groupdict()\n",
    "    matches = re.search(r\"(?P<title>.*?)\\s*\\(\\s*(?P<artist>.*?)\\s*\\)\", text)\n",
    "    if matches:\n",
    "        return matches.groupdict()\n",
    "    return {\"title\": text, \"artist\": \"\"}\n",
    "\n",
    "\n",
    "def func(index: int):\n",
    "    print(index)\n",
    "\n",
    "\n",
    "\n"
   ]
  },
  {
   "cell_type": "code",
   "execution_count": 15,
   "id": "6da9d40a-efbc-4f1c-91d5-24d2f865787d",
   "metadata": {},
   "outputs": [],
   "source": [
    "tmp = YTMusicClient(auth='test.json')"
   ]
  },
  {
   "cell_type": "code",
   "execution_count": 16,
   "id": "c3c67527-4a07-4c2b-bf8e-29c88d48cf3e",
   "metadata": {},
   "outputs": [
    {
     "data": {
      "text/plain": [
       "('i_-kwMJDjq0', '없었던일로', 'Undo')"
      ]
     },
     "execution_count": 16,
     "metadata": {},
     "output_type": "execute_result"
    }
   ],
   "source": [
    "tmp.return_top_video_match(\"heize undo\")"
   ]
  },
  {
   "cell_type": "code",
   "execution_count": 12,
   "id": "5700ca67-7975-4ac5-bfff-5f832c030ffd",
   "metadata": {},
   "outputs": [],
   "source": [
    "from ytmusicapi.setup import setup_browser"
   ]
  },
  {
   "cell_type": "code",
   "execution_count": 13,
   "id": "1f953633-3e90-4c90-979f-b8d2a2650042",
   "metadata": {},
   "outputs": [],
   "source": [
    "raw = \"\"\"Accept:\n",
    "*/*\n",
    "Accept-Encoding:\n",
    "gzip, deflate, br, zstd\n",
    "Accept-Language:\n",
    "en-US,en;q=0.9,ko;q=0.8\n",
    "Authorization:\n",
    "SAPISIDHASH 1712059859_dafb5e370012d0fba83b0fa917c310e629467092\n",
    "Content-Length:\n",
    "3189\n",
    "Content-Type:\n",
    "application/json\n",
    "Cookie:\n",
    "SID=g.a000iAhVrjqxxCKORnmPw0fwg40HEku_b2GQeNofV_kALZqRznnCFAsS4xVPHFhIWV8DLAaEbwACgYKAdUSAQASFQHGX2MikVidfZPZGrOszsOhyxkNZRoVAUF8yKrLFbMyqvpuvpsVqsCVEHi50076; __Secure-1PSID=g.a000iAhVrjqxxCKORnmPw0fwg40HEku_b2GQeNofV_kALZqRznnCgtRbqMB-X2hzg6WRlMgbqAACgYKAcYSAQASFQHGX2MilqDYUNdtABAnuFF0jU7QWBoVAUF8yKpX35KcAMVTRn2Y8fiAfo7F0076; __Secure-3PSID=g.a000iAhVrjqxxCKORnmPw0fwg40HEku_b2GQeNofV_kALZqRznnCt47vDeoalwk7DAkMq13gDwACgYKAQ4SAQASFQHGX2Mii1O7nA2Gf2HNKqXPck63lBoVAUF8yKqElRkB6PjeWTqJ1KwS9EIC0076; HSID=AfOHvdwyd4ocVcyUq; SSID=AqGPed3mIWLpzyPIk; APISID=egoZ5d0Zoi8Db4pJ/AS7xDOBU42JG-lq9v; SAPISID=pivRROyIavSRCEv7/AAsVavG00tzwIbaZ7; __Secure-1PAPISID=pivRROyIavSRCEv7/AAsVavG00tzwIbaZ7; __Secure-3PAPISID=pivRROyIavSRCEv7/AAsVavG00tzwIbaZ7; VISITOR_PRIVACY_METADATA=CgJLUhIEGgAgDw%3D%3D; LOGIN_INFO=AFmmF2swRQIhAPkBNLI-0R3nVaGza_Kvi3HmbH8tC9ADd6PDiyD90YjeAiAhcjOyGAwDEuWQe5sGhrDOSnl6nlErVLdHp3xzwHbYmA:QUQ3MjNmdzRtbHZrd0FiSzJjYlNZWmdXLWxqSVJqZ0VQcEhUM1BwNlFoMkkwdmRQNzFBTDFjTVFiWHlsQUZJekpVYmdCN3d4a3FnZ0JaVXMtVzMzLW1PaEtZQW5Zc1J3V1RyVWtkRzRsaHZmNXkwR3U3dFFsY04tMzVEdEVWVGVjYjVlMkRfRTFrX0toY0plbzZUWFdsaC1oVEJUSUdHVzhn; _gcl_au=1.1.911865.1711878206; NID=512=tnK4CA7V8rn8C2kkewT2l6dFzNYv2eWOpYpf9OGBoqI8HVdwlxRT_ApNkeH-Y3miXQEnnSA8kEZyCqhQlaAOYcX6VkoA_91nYZUSRphxJ9LwTjIfppIR8DwE4S6EPLXv32VLSTxFNcHjd_WjI60cBX_HrX_sr6jB-69080QRI5f1uFwlng_qS2RNeYQGBUnsaTXQxOCa6xw5zks; VISITOR_INFO1_LIVE=naAJD_2ABB0; VISITOR_PRIVACY_METADATA=CgJLUhIEGgAgDw%3D%3D; YSC=WQ6687AeJAE; PREF=f6=40000080&f7=4100&tz=Asia.Seoul&f4=4000000; __Secure-1PSIDTS=sidts-CjIB7F1E_PKpz29xKSXWvGI7aov4QpcEML2wxgZUuJPbf10OetQ6zddOZKriNWBnID-FexAA; __Secure-3PSIDTS=sidts-CjIB7F1E_PKpz29xKSXWvGI7aov4QpcEML2wxgZUuJPbf10OetQ6zddOZKriNWBnID-FexAA; SIDCC=AKEyXzVSoozfTPnvYDfcF_CKuxRWc6igiYJlCxDmYy5W0DU_PzPVCI_48m9YJgwx-FknfFWx1A; __Secure-1PSIDCC=AKEyXzUQ7i8emQpdXaezrxLycuVHA8-XVYytoIeYaTR06UiGjjTx5BJfZOUQbzG2qyhKRRPk-A; __Secure-3PSIDCC=AKEyXzX_ydiZGiJ3gl7zwBK9_61dairQx_S-9qrYIobCa_zzn0QbOOT6Pf3Mnj0BUqDhBnwotg\n",
    "Origin:\n",
    "https://music.youtube.com\n",
    "Referer:\n",
    "https://music.youtube.com/\n",
    "Sec-Ch-Ua:\n",
    "\"Google Chrome\";v=\"123\", \"Not:A-Brand\";v=\"8\", \"Chromium\";v=\"123\"\n",
    "Sec-Ch-Ua-Arch:\n",
    "\"arm\"\n",
    "Sec-Ch-Ua-Bitness:\n",
    "\"64\"\n",
    "Sec-Ch-Ua-Full-Version:\n",
    "\"123.0.6312.87\"\n",
    "Sec-Ch-Ua-Full-Version-List:\n",
    "\"Google Chrome\";v=\"123.0.6312.87\", \"Not:A-Brand\";v=\"8.0.0.0\", \"Chromium\";v=\"123.0.6312.87\"\n",
    "Sec-Ch-Ua-Mobile:\n",
    "?0\n",
    "Sec-Ch-Ua-Model:\n",
    "\"\"\n",
    "Sec-Ch-Ua-Platform:\n",
    "\"macOS\"\n",
    "Sec-Ch-Ua-Platform-Version:\n",
    "\"14.4.1\"\n",
    "Sec-Ch-Ua-Wow64:\n",
    "?0\n",
    "Sec-Fetch-Dest:\n",
    "empty\n",
    "Sec-Fetch-Mode:\n",
    "same-origin\n",
    "Sec-Fetch-Site:\n",
    "same-origin\n",
    "User-Agent:\n",
    "Mozilla/5.0 (Macintosh; Intel Mac OS X 10_15_7) AppleWebKit/537.36 (KHTML, like Gecko) Chrome/123.0.0.0 Safari/537.36\n",
    "X-Client-Data:\n",
    "CJC2yQEIpLbJAQipncoBCL7nygEIkqHLAQjymM0BCIagzQEIuMjNAQje7M0BCMSAzgEI2oTOAQi1hc4BCLeGzgEIxIbOAQjAt8oiGLOpygEY1+vNARiY9c0BGNP+zQEY2IbOAQ==\n",
    "Decoded:\n",
    "message ClientVariations {\n",
    "  // Active client experiment variation IDs.\n",
    "  repeated int32 variation_id = [3300112, 3300132, 3313321, 3322814, 3330194, 3361906, 3362822, 3367992, 3372638, 3375172, 3375706, 3375797, 3375927, 3375940, 72522688];\n",
    "  // Active client experiment variation IDs that trigger server-side behavior.\n",
    "  repeated int32 trigger_variation_id = [3314867, 3372503, 3373720, 3374931, 3375960];\n",
    "}\n",
    "X-Goog-Authuser:\n",
    "0\n",
    "X-Goog-Visitor-Id:\n",
    "CgtuYUFKRF8yQUJCMCjOpq-wBjIKCgJLUhIEGgAgDw%3D%3D\n",
    "X-Origin:\n",
    "https://music.youtube.com\n",
    "X-Youtube-Bootstrap-Logged-In:\n",
    "true\n",
    "X-Youtube-Client-Name:\n",
    "67\n",
    "X-Youtube-Client-Version:\n",
    "1.20240327.01.01\"\"\""
   ]
  },
  {
   "cell_type": "code",
   "execution_count": 14,
   "id": "a950c9af-4ca3-4afa-a823-80eaef078d46",
   "metadata": {},
   "outputs": [
    {
     "data": {
      "text/plain": [
       "'{\"Accept\": \"*/*\", \"Accept-Encoding\": \"gzip, deflate, br, zstd\", \"Accept-Language\": \"en-US,en;q=0.9,ko;q=0.8\", \"Authorization\": \"SAPISIDHASH 1712059859_dafb5e370012d0fba83b0fa917c310e629467092\", \"Content-Length\": \"3189\", \"Content-Type\": \"application/json\", \"Cookie\": \"SID=g.a000iAhVrjqxxCKORnmPw0fwg40HEku_b2GQeNofV_kALZqRznnCFAsS4xVPHFhIWV8DLAaEbwACgYKAdUSAQASFQHGX2MikVidfZPZGrOszsOhyxkNZRoVAUF8yKrLFbMyqvpuvpsVqsCVEHi50076; __Secure-1PSID=g.a000iAhVrjqxxCKORnmPw0fwg40HEku_b2GQeNofV_kALZqRznnCgtRbqMB-X2hzg6WRlMgbqAACgYKAcYSAQASFQHGX2MilqDYUNdtABAnuFF0jU7QWBoVAUF8yKpX35KcAMVTRn2Y8fiAfo7F0076; __Secure-3PSID=g.a000iAhVrjqxxCKORnmPw0fwg40HEku_b2GQeNofV_kALZqRznnCt47vDeoalwk7DAkMq13gDwACgYKAQ4SAQASFQHGX2Mii1O7nA2Gf2HNKqXPck63lBoVAUF8yKqElRkB6PjeWTqJ1KwS9EIC0076; HSID=AfOHvdwyd4ocVcyUq; SSID=AqGPed3mIWLpzyPIk; APISID=egoZ5d0Zoi8Db4pJ/AS7xDOBU42JG-lq9v; SAPISID=pivRROyIavSRCEv7/AAsVavG00tzwIbaZ7; __Secure-1PAPISID=pivRROyIavSRCEv7/AAsVavG00tzwIbaZ7; __Secure-3PAPISID=pivRROyIavSRCEv7/AAsVavG00tzwIbaZ7; VISITOR_PRIVACY_METADATA=CgJLUhIEGgAgDw%3D%3D; LOGIN_INFO=AFmmF2swRQIhAPkBNLI-0R3nVaGza_Kvi3HmbH8tC9ADd6PDiyD90YjeAiAhcjOyGAwDEuWQe5sGhrDOSnl6nlErVLdHp3xzwHbYmA:QUQ3MjNmdzRtbHZrd0FiSzJjYlNZWmdXLWxqSVJqZ0VQcEhUM1BwNlFoMkkwdmRQNzFBTDFjTVFiWHlsQUZJekpVYmdCN3d4a3FnZ0JaVXMtVzMzLW1PaEtZQW5Zc1J3V1RyVWtkRzRsaHZmNXkwR3U3dFFsY04tMzVEdEVWVGVjYjVlMkRfRTFrX0toY0plbzZUWFdsaC1oVEJUSUdHVzhn; _gcl_au=1.1.911865.1711878206; NID=512=tnK4CA7V8rn8C2kkewT2l6dFzNYv2eWOpYpf9OGBoqI8HVdwlxRT_ApNkeH-Y3miXQEnnSA8kEZyCqhQlaAOYcX6VkoA_91nYZUSRphxJ9LwTjIfppIR8DwE4S6EPLXv32VLSTxFNcHjd_WjI60cBX_HrX_sr6jB-69080QRI5f1uFwlng_qS2RNeYQGBUnsaTXQxOCa6xw5zks; VISITOR_INFO1_LIVE=naAJD_2ABB0; VISITOR_PRIVACY_METADATA=CgJLUhIEGgAgDw%3D%3D; YSC=WQ6687AeJAE; PREF=f6=40000080&f7=4100&tz=Asia.Seoul&f4=4000000; __Secure-1PSIDTS=sidts-CjIB7F1E_PKpz29xKSXWvGI7aov4QpcEML2wxgZUuJPbf10OetQ6zddOZKriNWBnID-FexAA; __Secure-3PSIDTS=sidts-CjIB7F1E_PKpz29xKSXWvGI7aov4QpcEML2wxgZUuJPbf10OetQ6zddOZKriNWBnID-FexAA; SIDCC=AKEyXzVSoozfTPnvYDfcF_CKuxRWc6igiYJlCxDmYy5W0DU_PzPVCI_48m9YJgwx-FknfFWx1A; __Secure-1PSIDCC=AKEyXzUQ7i8emQpdXaezrxLycuVHA8-XVYytoIeYaTR06UiGjjTx5BJfZOUQbzG2qyhKRRPk-A; __Secure-3PSIDCC=AKEyXzX_ydiZGiJ3gl7zwBK9_61dairQx_S-9qrYIobCa_zzn0QbOOT6Pf3Mnj0BUqDhBnwotg\", \"Origin\": \"https://music.youtube.com\", \"Referer\": \"https://music.youtube.com/\", \"Sec-Ch-Ua\": \"\\\\\"Google Chrome\\\\\";v=\\\\\"123\\\\\", \\\\\"Not:A-Brand\\\\\";v=\\\\\"8\\\\\", \\\\\"Chromium\\\\\";v=\\\\\"123\\\\\"\", \"Sec-Ch-Ua-Arch\": \"\\\\\"arm\\\\\"\", \"Sec-Ch-Ua-Bitness\": \"\\\\\"64\\\\\"\", \"Sec-Ch-Ua-Full-Version\": \"\\\\\"123.0.6312.87\\\\\"\", \"Sec-Ch-Ua-Full-Version-List\": \"\\\\\"Google Chrome\\\\\";v=\\\\\"123.0.6312.87\\\\\", \\\\\"Not:A-Brand\\\\\";v=\\\\\"8.0.0.0\\\\\", \\\\\"Chromium\\\\\";v=\\\\\"123.0.6312.87\\\\\"\", \"Sec-Ch-Ua-Mobile\": \"?0\", \"Sec-Ch-Ua-Model\": \"\\\\\"\\\\\"\", \"Sec-Ch-Ua-Platform\": \"\\\\\"macOS\\\\\"\", \"Sec-Ch-Ua-Platform-Version\": \"\\\\\"14.4.1\\\\\"\", \"Sec-Ch-Ua-Wow64\": \"?0\", \"Sec-Fetch-Dest\": \"empty\", \"Sec-Fetch-Mode\": \"same-origin\", \"Sec-Fetch-Site\": \"same-origin\", \"User-Agent\": \"Mozilla/5.0 (Macintosh; Intel Mac OS X 10_15_7) AppleWebKit/537.36 (KHTML, like Gecko) Chrome/123.0.0.0 Safari/537.36\", \"X-Client-Data\": \"CJC2yQEIpLbJAQipncoBCL7nygEIkqHLAQjymM0BCIagzQEIuMjNAQje7M0BCMSAzgEI2oTOAQi1hc4BCLeGzgEIxIbOAQjAt8oiGLOpygEY1+vNARiY9c0BGNP+zQEY2IbOAQ==\", \"Decoded\": \"}\", \"X-Goog-Authuser\": \"0\", \"X-Goog-Visitor-Id\": \"CgtuYUFKRF8yQUJCMCjOpq-wBjIKCgJLUhIEGgAgDw%3D%3D\", \"X-Origin\": \"https://music.youtube.com\", \"X-Youtube-Bootstrap-Logged-In\": \"true\", \"X-Youtube-Client-Name\": \"67\", \"X-Youtube-Client-Version\": \"1.20240327.01.01\", \"user-agent\": \"Mozilla/5.0 (Windows NT 10.0; Win64; x64; rv:88.0) Gecko/20100101 Firefox/88.0\", \"accept\": \"*/*\", \"accept-encoding\": \"gzip, deflate\", \"content-type\": \"application/json\", \"content-encoding\": \"gzip\", \"origin\": \"https://music.youtube.com\"}'"
      ]
     },
     "execution_count": 14,
     "metadata": {},
     "output_type": "execute_result"
    }
   ],
   "source": [
    "setup_browser(\"test.json\", headers_raw=raw)"
   ]
  },
  {
   "cell_type": "code",
   "execution_count": 2,
   "id": "f1824041-bede-41bd-861b-7d0d7644b78e",
   "metadata": {},
   "outputs": [],
   "source": [
    "sp_client, ytm_client = initialize_clients()"
   ]
  },
  {
   "cell_type": "code",
   "execution_count": 3,
   "id": "fc510ba4-ebfc-4bd2-910c-ed63919e5d7d",
   "metadata": {},
   "outputs": [
    {
     "ename": "IndexError",
     "evalue": "list index out of range",
     "output_type": "error",
     "traceback": [
      "\u001b[0;31m---------------------------------------------------------------------------\u001b[0m",
      "\u001b[0;31mIndexError\u001b[0m                                Traceback (most recent call last)",
      "Cell \u001b[0;32mIn[3], line 1\u001b[0m\n\u001b[0;32m----> 1\u001b[0m \u001b[43mytm_client\u001b[49m\u001b[38;5;241;43m.\u001b[39;49m\u001b[43mreturn_top_video_match\u001b[49m\u001b[43m(\u001b[49m\u001b[38;5;124;43m\"\u001b[39;49m\u001b[38;5;124;43mheize undo\u001b[39;49m\u001b[38;5;124;43m\"\u001b[39;49m\u001b[43m)\u001b[49m\n",
      "File \u001b[0;32m~/personal/dev/RKADE-sync/rkade_sync/client/yt_music.py:19\u001b[0m, in \u001b[0;36mYTMusicClient.return_top_video_match\u001b[0;34m(self, song_name)\u001b[0m\n\u001b[1;32m     15\u001b[0m \u001b[38;5;250m\u001b[39m\u001b[38;5;124;03m\"\"\"\u001b[39;00m\n\u001b[1;32m     16\u001b[0m \u001b[38;5;124;03mReturn the top result\u001b[39;00m\n\u001b[1;32m     17\u001b[0m \u001b[38;5;124;03m\"\"\"\u001b[39;00m\n\u001b[1;32m     18\u001b[0m results \u001b[38;5;241m=\u001b[39m \u001b[38;5;28mself\u001b[39m\u001b[38;5;241m.\u001b[39msearch(query\u001b[38;5;241m=\u001b[39msong_name, \u001b[38;5;28mfilter\u001b[39m\u001b[38;5;241m=\u001b[39m\u001b[38;5;124m\"\u001b[39m\u001b[38;5;124msongs\u001b[39m\u001b[38;5;124m\"\u001b[39m, limit\u001b[38;5;241m=\u001b[39m\u001b[38;5;241m10\u001b[39m)\n\u001b[0;32m---> 19\u001b[0m result \u001b[38;5;241m=\u001b[39m \u001b[43mresults\u001b[49m\u001b[43m[\u001b[49m\u001b[38;5;241;43m0\u001b[39;49m\u001b[43m]\u001b[49m\n\u001b[1;32m     20\u001b[0m \u001b[38;5;28;01mreturn\u001b[39;00m (\n\u001b[1;32m     21\u001b[0m     result[\u001b[38;5;124m\"\u001b[39m\u001b[38;5;124mvideoId\u001b[39m\u001b[38;5;124m\"\u001b[39m]\u001b[38;5;241m.\u001b[39mreplace(\u001b[38;5;124m\"\u001b[39m\u001b[38;5;124m&\u001b[39m\u001b[38;5;124m\"\u001b[39m, \u001b[38;5;124m\"\u001b[39m\u001b[38;5;130;01m\\\\\u001b[39;00m\u001b[38;5;124m&\u001b[39m\u001b[38;5;124m\"\u001b[39m),\n\u001b[1;32m     22\u001b[0m     result[\u001b[38;5;124m\"\u001b[39m\u001b[38;5;124mtitle\u001b[39m\u001b[38;5;124m\"\u001b[39m],\n\u001b[1;32m     23\u001b[0m     result[\u001b[38;5;124m\"\u001b[39m\u001b[38;5;124malbum\u001b[39m\u001b[38;5;124m\"\u001b[39m][\u001b[38;5;124m\"\u001b[39m\u001b[38;5;124mname\u001b[39m\u001b[38;5;124m\"\u001b[39m],\n\u001b[1;32m     24\u001b[0m )\n",
      "\u001b[0;31mIndexError\u001b[0m: list index out of range"
     ]
    }
   ],
   "source": [
    "ytm_client.return_top_video_match(\"heize undo\")"
   ]
  },
  {
   "cell_type": "code",
   "execution_count": null,
   "id": "2a7306b7-c870-4e1f-b294-c4569385f488",
   "metadata": {},
   "outputs": [],
   "source": [
    "sp_playlists = sp_client.get_spotify_playlists_and_songs(fuzzy_name=\"rekordbox\")\n",
    "sp_videos = get_spotify_videos(sp_playlists, ytm_client)\n",
    "yt_videos = get_ytm_videos(YT_PLAYLISTS)"
   ]
  },
  {
   "cell_type": "code",
   "execution_count": null,
   "id": "885afb60-a418-46c6-9a35-786421e08986",
   "metadata": {},
   "outputs": [],
   "source": [
    "\n",
    "\n",
    "if __name__ == \"__main__\":\n",
    "    tracks = main()\n",
    "    manager = multiprocessing.Manager()\n",
    "    processes = []\n",
    "    for playlist, videos in tracks.items():\n",
    "        for video in videos:\n",
    "            p = multiprocessing.Process(\n",
    "                target=download_song,\n",
    "                args=(\n",
    "                    video,\n",
    "                    playlist,\n",
    "                ),\n",
    "            )\n",
    "            processes.append(p)\n",
    "            p.start()\n",
    "\n",
    "    for process in processes:\n",
    "        process.join()"
   ]
  }
 ],
 "metadata": {
  "kernelspec": {
   "display_name": "Python 3 (ipykernel)",
   "language": "python",
   "name": "python3"
  },
  "language_info": {
   "codemirror_mode": {
    "name": "ipython",
    "version": 3
   },
   "file_extension": ".py",
   "mimetype": "text/x-python",
   "name": "python",
   "nbconvert_exporter": "python",
   "pygments_lexer": "ipython3",
   "version": "3.10.13"
  }
 },
 "nbformat": 4,
 "nbformat_minor": 5
}
