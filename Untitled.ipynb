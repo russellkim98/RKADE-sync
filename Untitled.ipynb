{
 "cells": [
  {
   "cell_type": "code",
   "execution_count": 71,
   "id": "120940d4-a543-4e79-a825-6886d0c6482c",
   "metadata": {},
   "outputs": [],
   "source": [
    "from pytube import YouTube\n",
    "import os\n",
    "import subprocess\n",
    "from pydub import AudioSegment"
   ]
  },
  {
   "cell_type": "code",
   "execution_count": 86,
   "id": "1304b0c2-9cba-4f07-a02d-2f8f929248de",
   "metadata": {},
   "outputs": [],
   "source": [
    "def get_video_object(video_id, title):\n",
    "    base = 'https://music.youtube.com/watch?v'\n",
    "    url = f\"{base}={video_id}\"\n",
    "    return YouTube(url, use_oauth=True, allow_oauth_cache=True)\n",
    "\n",
    "def get_best_audio_stream(yt):\n",
    "    return yt.streams.filter(only_audio=True).order_by('abr').last()\n",
    "\n",
    "def download_stream(stream, output_dir, title):\n",
    "    filename = f\"{title}.{stream.subtype}\"\n",
    "    fp = stream.download(output_path=output_dir, filename=filename, max_retries=3)\n",
    "    return fp\n",
    "\n",
    "def trim_audio(fp, seconds):\n",
    "    song = AudioSegment.from_file(fp)[:seconds*1000]\n",
    "    return song\n",
    "\n",
    "def export_mp3(song, fp, tags):\n",
    "    song.export(fp, format=\"mp3\", bitrate=\"256k\", tags=tags)\n",
    "    "
   ]
  },
  {
   "cell_type": "code",
   "execution_count": 87,
   "id": "6514b3d1-aa45-4d49-aac3-e7acf14109f3",
   "metadata": {},
   "outputs": [],
   "source": [
    "video_id = 'jvGm_vZmBTg'\n",
    "title = 'Logo Queen - So Inagawa'\n",
    "output_dir = '/Users/russellkim/personal/dev/RKADE-sync'\n",
    "fp = f\"{title}.mp3\"\n",
    "tags={\n",
    "    'artist': 'So Inagawa',\n",
    "    'album': 'Logo Queen', \n",
    "    'comments': 'This album is awesome!'}\n",
    "# video_id = 'OdVBPfr8Hac'\n",
    "# title = 'Buggin - Hot Since 82'"
   ]
  },
  {
   "cell_type": "code",
   "execution_count": 88,
   "id": "26803566-1087-491f-b5f7-f83c66884256",
   "metadata": {},
   "outputs": [],
   "source": [
    "yt = get_video_object(video_id=video_id, title=title)"
   ]
  },
  {
   "cell_type": "code",
   "execution_count": 89,
   "id": "ade1a655-8196-4dd4-9a23-cac8fe729faf",
   "metadata": {},
   "outputs": [],
   "source": [
    "stream = get_best_audio_stream(yt)"
   ]
  },
  {
   "cell_type": "code",
   "execution_count": 90,
   "id": "7a558fe4-1ca5-4619-a50a-f00f2be50781",
   "metadata": {},
   "outputs": [],
   "source": [
    "raw_fp = download_stream(stream, output_dir=output_dir, title=title)"
   ]
  },
  {
   "cell_type": "code",
   "execution_count": 91,
   "id": "df0fb41e-bb00-45d9-ad0c-0d721bb7f883",
   "metadata": {},
   "outputs": [],
   "source": [
    "trimmed = trim_audio(raw_fp, yt.length)"
   ]
  },
  {
   "cell_type": "code",
   "execution_count": 92,
   "id": "6ec859bd-738c-4f51-a749-2b1368ea2d05",
   "metadata": {},
   "outputs": [],
   "source": [
    "export_mp3(trimmed, fp, tags)"
   ]
  },
  {
   "cell_type": "code",
   "execution_count": 85,
   "id": "86efeb09-09a0-4d2b-bc08-2f345934ce1f",
   "metadata": {},
   "outputs": [
    {
     "data": {
      "text/plain": [
       "500"
      ]
     },
     "execution_count": 85,
     "metadata": {},
     "output_type": "execute_result"
    }
   ],
   "source": [
    "trimmed"
   ]
  },
  {
   "cell_type": "code",
   "execution_count": null,
   "id": "c099f1d4-7374-4d66-b1a5-1f6680b0efeb",
   "metadata": {},
   "outputs": [],
   "source": []
  }
 ],
 "metadata": {
  "kernelspec": {
   "display_name": "Python 3 (ipykernel)",
   "language": "python",
   "name": "python3"
  },
  "language_info": {
   "codemirror_mode": {
    "name": "ipython",
    "version": 3
   },
   "file_extension": ".py",
   "mimetype": "text/x-python",
   "name": "python",
   "nbconvert_exporter": "python",
   "pygments_lexer": "ipython3",
   "version": "3.10.13"
  }
 },
 "nbformat": 4,
 "nbformat_minor": 5
}
