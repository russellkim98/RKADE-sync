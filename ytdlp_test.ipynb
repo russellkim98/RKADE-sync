{
 "cells": [
  {
   "cell_type": "code",
   "execution_count": 7,
   "id": "37ebe5eb-4fdd-4196-9f77-57fdfdd7ac3c",
   "metadata": {},
   "outputs": [],
   "source": [
    "import subprocess\n",
    "import os\n",
    "from pathlib import Path\n",
    "\n",
    "def download_youtube_playlist(playlist_url, output_folder, cookies_file=None):\n",
    "    \"\"\"\n",
    "    Download YouTube playlist as high-quality MP3 files with metadata and thumbnails.\n",
    "    \n",
    "    Args:\n",
    "        playlist_url (str): YouTube playlist URL\n",
    "        output_folder (str): Path where files will be saved\n",
    "        cookies_file (str, optional): Path to cookies.txt file for YouTube Premium access\n",
    "    \n",
    "    Returns:\n",
    "        bool: True if successful, False otherwise\n",
    "    \"\"\"\n",
    "    \n",
    "    # Create output folder if it doesn't exist\n",
    "    Path(output_folder).mkdir(parents=True, exist_ok=True)\n",
    "    \n",
    "    # Base yt-dlp command\n",
    "    cmd = [\n",
    "        'yt-dlp',\n",
    "        '--format', 'bestaudio/best',  # Get best audio quality available\n",
    "        '--extract-audio',  # Extract audio\n",
    "        '--audio-format', 'mp3',  # Convert to MP3\n",
    "        '--list-formats',\n",
    "        '--embed-metadata',  # Add metadata to files\n",
    "        '--add-metadata',  # Add metadata\n",
    "        '--embed-thumbnail',  # Embed thumbnail in audio file\n",
    "        '--write-thumbnail',  # Also save thumbnail as separate file\n",
    "        '--output', f'{output_folder}/%(playlist_title)s/%(title)s.%(ext)s',  # Organize by playlist\n",
    "        '--restrict-filenames',  # Use safe filenames\n",
    "        '--ignore-errors',  # Continue on errors\n",
    "        '--no-warnings',  # Reduce output noise\n",
    "        playlist_url\n",
    "    ]\n",
    "    \n",
    "    \n",
    "    # Add cookies file if provided (for YouTube Premium)\n",
    "    if cookies_file and os.path.exists(cookies_file):\n",
    "        cmd.extend(['--cookies', cookies_file])\n",
    "        print(f\"Using cookies file: {cookies_file}\")\n",
    "    \n",
    "    # Add post-processor for audio conversion\n",
    "    cmd.extend([\n",
    "        '--postprocessor-args', \n",
    "        'ffmpeg:-c:a libmp3lame -b:a 320k'  # Ensure 320kbps MP3\n",
    "    ])\n",
    "    \n",
    "    try:\n",
    "        print(f\"Starting download to: {output_folder}\")\n",
    "        print(f\"Command: {' '.join(cmd)}\")\n",
    "        \n",
    "        # Run the command\n",
    "        result = subprocess.run(cmd, capture_output=True, text=True, check=True)\n",
    "        \n",
    "        print(\"Download completed successfully!\")\n",
    "        return True\n",
    "        \n",
    "    except subprocess.CalledProcessError as e:\n",
    "        print(f\"Error occurred: {e}\")\n",
    "        print(f\"stderr: {e.stderr}\")\n",
    "        print(f\"stdout: {e.stdout}\")\n",
    "        return False\n",
    "    except FileNotFoundError:\n",
    "        print(\"Error: yt-dlp not found. Please install it with: pip install yt-dlp\")\n",
    "        return False\n",
    "\n",
    "def export_youtube_cookies():\n",
    "    \"\"\"\n",
    "    Instructions for exporting YouTube cookies for Premium access.\n",
    "    \"\"\"\n",
    "    instructions = \"\"\"\n",
    "    To use YouTube Premium quality, you need to export your browser cookies:\n",
    "    \n",
    "    Method 1 - Browser Extension (Easiest):\n",
    "    1. Install \"Get cookies.txt LOCALLY\" extension for Chrome/Firefox\n",
    "    2. Go to youtube.com while logged in\n",
    "    3. Click the extension icon\n",
    "    4. Save as cookies.txt\n",
    "    \n",
    "    Method 2 - Manual Export:\n",
    "    1. Install browser extension like \"EditThisCookie\" or \"Cookie Editor\"\n",
    "    2. Export YouTube cookies in Netscape format\n",
    "    3. Save as cookies.txt\n",
    "    \n",
    "    Then pass the cookies file path to the download function.\n",
    "    \"\"\"\n",
    "    print(instructions)"
   ]
  },
  {
   "cell_type": "code",
   "execution_count": 8,
   "id": "01cc4334-c3e1-483f-a858-125429c0f894",
   "metadata": {},
   "outputs": [
    {
     "name": "stdout",
     "output_type": "stream",
     "text": [
      "Using cookies file: /Users/russellkim/personal/dev/RKADE-sync/ytmusic_cookies.txt\n",
      "Starting download to: /Users/russellkim/personal/dev/RKADE-sync/ytdlp_downloads\n",
      "Command: yt-dlp --format bestaudio/best --extract-audio --audio-format mp3 --list-formats --embed-metadata --add-metadata --embed-thumbnail --write-thumbnail --output /Users/russellkim/personal/dev/RKADE-sync/ytdlp_downloads/%(playlist_title)s/%(title)s.%(ext)s --restrict-filenames --ignore-errors --no-warnings https://www.youtube.com/watch?v=jvGm_vZmBTg --cookies /Users/russellkim/personal/dev/RKADE-sync/ytmusic_cookies.txt --postprocessor-args ffmpeg:-c:a libmp3lame -b:a 320k\n",
      "Download completed successfully!\n"
     ]
    },
    {
     "data": {
      "text/plain": [
       "True"
      ]
     },
     "execution_count": 8,
     "metadata": {},
     "output_type": "execute_result"
    }
   ],
   "source": [
    "# With YouTube Premium cookies\n",
    "download_youtube_playlist(\n",
    "    \"https://www.youtube.com/watch?v=jvGm_vZmBTg\", \n",
    "    \"/Users/russellkim/personal/dev/RKADE-sync/ytdlp_downloads\",\n",
    "    \"/Users/russellkim/personal/dev/RKADE-sync/ytmusic_cookies.txt\"\n",
    ")"
   ]
  },
  {
   "cell_type": "code",
   "execution_count": null,
   "id": "b2719143-8a9f-4233-b691-01fd876ee400",
   "metadata": {},
   "outputs": [],
   "source": []
  }
 ],
 "metadata": {
  "kernelspec": {
   "display_name": "Python 3 (ipykernel)",
   "language": "python",
   "name": "python3"
  },
  "language_info": {
   "codemirror_mode": {
    "name": "ipython",
    "version": 3
   },
   "file_extension": ".py",
   "mimetype": "text/x-python",
   "name": "python",
   "nbconvert_exporter": "python",
   "pygments_lexer": "ipython3",
   "version": "3.13.2"
  }
 },
 "nbformat": 4,
 "nbformat_minor": 5
}
